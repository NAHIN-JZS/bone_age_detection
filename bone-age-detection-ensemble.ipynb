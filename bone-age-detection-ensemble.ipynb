{
 "cells": [
  {
   "cell_type": "code",
   "execution_count": 1,
   "id": "0b579cc2",
   "metadata": {
    "_cell_guid": "b1076dfc-b9ad-4769-8c92-a6c4dae69d19",
    "_uuid": "8f2839f25d086af736a60e9eeb907d3b93b6e0e5",
    "execution": {
     "iopub.execute_input": "2022-07-02T16:50:30.568199Z",
     "iopub.status.busy": "2022-07-02T16:50:30.567129Z",
     "iopub.status.idle": "2022-07-02T16:50:37.979659Z",
     "shell.execute_reply": "2022-07-02T16:50:37.978987Z",
     "shell.execute_reply.started": "2021-08-02T16:14:17.983664Z"
    },
    "papermill": {
     "duration": 7.431279,
     "end_time": "2022-07-02T16:50:37.979866",
     "exception": false,
     "start_time": "2022-07-02T16:50:30.548587",
     "status": "completed"
    },
    "tags": []
   },
   "outputs": [],
   "source": [
    "# This Python 3 environment comes with many helpful analytics libraries installed\n",
    "# It is defined by the kaggle/python Docker image: https://github.com/kaggle/docker-python\n",
    "# For example, here's several helpful packages to load\n",
    "\n",
    "import numpy as np # linear algebra\n",
    "import pandas as pd # data processing, CSV file I/O (e.g. pd.read_csv)\n",
    "from sklearn.model_selection import train_test_split\n",
    "\n",
    "from tensorflow import keras \n",
    "from tensorflow.keras import layers\n",
    "from tensorflow.keras.layers import Dense,GlobalAveragePooling2D\n",
    "\n",
    "#packages required for image preprocessing\n",
    "from tensorflow.keras.preprocessing import image\n",
    "from tensorflow.keras.metrics import mean_absolute_error\n",
    "import tensorflow as tf\n",
    "\n",
    "#loading training and testing datasets\n",
    "df_train = pd.read_csv('../input/rsna-bone-age/boneage-training-dataset.csv')\n",
    "df_test = pd.read_csv('../input/rsna-bone-age/boneage-test-dataset.csv')\n",
    "\n",
    "#appending png file extension to id column for both training and testing datasets\n",
    "df_train['id'] = df_train['id'].apply(lambda x: str(x)+'.png')\n",
    "df_test['Case ID'] = df_test['Case ID'].apply(lambda x: str(x)+'.png')\n",
    "\n",
    "#Feature Engineering\n",
    "df_train['Sex'] = df_train['male'].apply(lambda x: '1' if x else '0')\n",
    "del(df_train['male'])\n",
    "df_test['id'] = df_test['Case ID']\n",
    "del(df_test['Case ID'])\n",
    "\n",
    "#splitting train datasets into traininng and validation datasets\n",
    "train_df, test_df = train_test_split(df_train, test_size = 0.20, random_state = 0)\n",
    "#train_df, test_df = train_test_split(test_train_df, test_size = 0.05, random_state = 0)"
   ]
  },
  {
   "cell_type": "code",
   "execution_count": null,
   "id": "981d3664",
   "metadata": {
    "papermill": {
     "duration": 0.013797,
     "end_time": "2022-07-02T16:50:38.009195",
     "exception": false,
     "start_time": "2022-07-02T16:50:37.995398",
     "status": "completed"
    },
    "tags": []
   },
   "outputs": [],
   "source": []
  },
  {
   "cell_type": "code",
   "execution_count": 2,
   "id": "3024419f",
   "metadata": {
    "execution": {
     "iopub.execute_input": "2022-07-02T16:50:38.040816Z",
     "iopub.status.busy": "2022-07-02T16:50:38.040024Z",
     "iopub.status.idle": "2022-07-02T16:50:38.059905Z",
     "shell.execute_reply": "2022-07-02T16:50:38.060675Z",
     "shell.execute_reply.started": "2021-08-02T16:14:24.17503Z"
    },
    "papermill": {
     "duration": 0.037548,
     "end_time": "2022-07-02T16:50:38.060928",
     "exception": false,
     "start_time": "2022-07-02T16:50:38.023380",
     "status": "completed"
    },
    "tags": []
   },
   "outputs": [
    {
     "name": "stdout",
     "output_type": "stream",
     "text": [
      "<class 'pandas.core.frame.DataFrame'>\n",
      "Int64Index: 2523 entries, 5112 to 7227\n",
      "Data columns (total 3 columns):\n",
      " #   Column   Non-Null Count  Dtype \n",
      "---  ------   --------------  ----- \n",
      " 0   id       2523 non-null   object\n",
      " 1   boneage  2523 non-null   int64 \n",
      " 2   Sex      2523 non-null   object\n",
      "dtypes: int64(1), object(2)\n",
      "memory usage: 78.8+ KB\n",
      "10088\n",
      "2523\n"
     ]
    }
   ],
   "source": [
    "test_df.info()\n",
    "print(len(train_df))\n",
    "print(len(test_df))\n",
    "#print(len(valid_df))"
   ]
  },
  {
   "cell_type": "code",
   "execution_count": 3,
   "id": "8b7f2e25",
   "metadata": {
    "execution": {
     "iopub.execute_input": "2022-07-02T16:50:38.094754Z",
     "iopub.status.busy": "2022-07-02T16:50:38.093866Z",
     "iopub.status.idle": "2022-07-02T16:50:38.099983Z",
     "shell.execute_reply": "2022-07-02T16:50:38.100453Z",
     "shell.execute_reply.started": "2021-08-02T16:14:24.196293Z"
    },
    "papermill": {
     "duration": 0.023753,
     "end_time": "2022-07-02T16:50:38.100619",
     "exception": false,
     "start_time": "2022-07-02T16:50:38.076866",
     "status": "completed"
    },
    "tags": []
   },
   "outputs": [],
   "source": [
    "GT_train = train_df['boneage']\n",
    "GT_train = np.asarray(GT_train.tolist())\n",
    "GT_test = test_df['boneage']\n",
    "GT_test = np.asarray(GT_test.tolist())"
   ]
  },
  {
   "cell_type": "code",
   "execution_count": 4,
   "id": "258dfa32",
   "metadata": {
    "execution": {
     "iopub.execute_input": "2022-07-02T16:50:38.132988Z",
     "iopub.status.busy": "2022-07-02T16:50:38.132057Z",
     "iopub.status.idle": "2022-07-02T16:50:38.138101Z",
     "shell.execute_reply": "2022-07-02T16:50:38.138960Z",
     "shell.execute_reply.started": "2021-08-02T16:14:24.204498Z"
    },
    "papermill": {
     "duration": 0.024,
     "end_time": "2022-07-02T16:50:38.139195",
     "exception": false,
     "start_time": "2022-07-02T16:50:38.115195",
     "status": "completed"
    },
    "tags": []
   },
   "outputs": [
    {
     "name": "stdout",
     "output_type": "stream",
     "text": [
      "10088\n",
      "2523\n"
     ]
    }
   ],
   "source": [
    "print(len(GT_train))\n",
    "print(len(GT_test))"
   ]
  },
  {
   "cell_type": "code",
   "execution_count": 5,
   "id": "fa53978a",
   "metadata": {
    "execution": {
     "iopub.execute_input": "2022-07-02T16:50:38.172381Z",
     "iopub.status.busy": "2022-07-02T16:50:38.171429Z",
     "iopub.status.idle": "2022-07-02T16:50:38.184373Z",
     "shell.execute_reply": "2022-07-02T16:50:38.184822Z",
     "shell.execute_reply.started": "2021-08-02T16:14:37.068437Z"
    },
    "papermill": {
     "duration": 0.030578,
     "end_time": "2022-07-02T16:50:38.185006",
     "exception": false,
     "start_time": "2022-07-02T16:50:38.154428",
     "status": "completed"
    },
    "tags": []
   },
   "outputs": [],
   "source": [
    "class CustomDataGen(tf.keras.utils.Sequence):\n",
    "    \n",
    "    def __init__(self, df, directory, X_col, y_col,\n",
    "                 batch_size,\n",
    "                 input_size=(224, 224, 3),\n",
    "                 shuffle=False):\n",
    "        \n",
    "        self.df = df.copy()\n",
    "        self.X_col = X_col\n",
    "        self.y_col = y_col\n",
    "        self.batch_size = batch_size\n",
    "        self.input_size = input_size\n",
    "        self.shuffle = shuffle\n",
    "        \n",
    "        self.n = len(self.df)\n",
    "        self.n_sex = df[X_col['Sex']].nunique()\n",
    "        #self.n_path = df[X_col['id']]\n",
    "        self.directory = directory\n",
    "        #self.GT = []\n",
    "        \n",
    "    \n",
    "    def __get_input(self, path, target_size):\n",
    "        img_path = self.directory+path\n",
    "        #print(img_path)\n",
    "        #self.id.append(path)\n",
    "        image = tf.keras.preprocessing.image.load_img(img_path)\n",
    "        image_arr = tf.keras.preprocessing.image.img_to_array(image)\n",
    "\n",
    "        image_arr = tf.image.resize(image_arr,(target_size[0], target_size[1])).numpy()\n",
    "\n",
    "        return image_arr/255.\n",
    "    \n",
    "    def __get_gender(self, label, num_classes):\n",
    "        return tf.keras.utils.to_categorical(label, num_classes=num_classes)\n",
    "        \n",
    "        \n",
    "    def __get_data(self, batches):\n",
    "        # Generates data containing batch_size samples\n",
    "\n",
    "        path_batch = batches[self.X_col['id']]\n",
    "        sex_batch = batches[self.X_col['Sex']]\n",
    "\n",
    "        bone_batch = batches[self.y_col['boneage']]\n",
    "\n",
    "        X0_batch = np.asarray([self.__get_input(x, self.input_size) for x in path_batch])\n",
    "        X1_batch = np.asarray([self.__get_gender(y, self.n_sex) for y in sex_batch])\n",
    "        y_batch = np.asarray(bone_batch)\n",
    "        #self.GT.append(y_batch)\n",
    "        \n",
    "\n",
    "        return tuple([X0_batch,X1_batch]), y_batch\n",
    "    \n",
    "    def on_epoch_end(self):\n",
    "        if self.shuffle:\n",
    "            self.df = self.df.sample(frac=1).reset_index(drop=True)\n",
    "    \n",
    "    def __getitem__(self, index):\n",
    "\n",
    "        batches = self.df[index * self.batch_size:(index + 1) * self.batch_size]\n",
    "        X, y = self.__get_data(batches)        \n",
    "        return X, y\n",
    "    \n",
    "    def __len__(self):\n",
    "        return self.n // self.batch_size"
   ]
  },
  {
   "cell_type": "code",
   "execution_count": 6,
   "id": "09949922",
   "metadata": {
    "execution": {
     "iopub.execute_input": "2022-07-02T16:50:38.217455Z",
     "iopub.status.busy": "2022-07-02T16:50:38.216526Z",
     "iopub.status.idle": "2022-07-02T16:50:38.222575Z",
     "shell.execute_reply": "2022-07-02T16:50:38.223006Z",
     "shell.execute_reply.started": "2021-08-02T16:14:40.159971Z"
    },
    "papermill": {
     "duration": 0.023724,
     "end_time": "2022-07-02T16:50:38.223186",
     "exception": false,
     "start_time": "2022-07-02T16:50:38.199462",
     "status": "completed"
    },
    "tags": []
   },
   "outputs": [],
   "source": [
    "def create_model(pretrain_model):\n",
    "    \n",
    "    x = pretrain_model.output\n",
    "    x = GlobalAveragePooling2D()(x)\n",
    "    x = Dense(1024,activation='relu')(x)\n",
    "    x = Dense(1024,activation='relu')(x)\n",
    "    x = Dense(512,activation='relu')(x)\n",
    "    output_image = Dense(1,activation='linear')(x)\n",
    "\n",
    "    #image_output = keras.Model(input=pretrain_model, output=output_image)\n",
    "    gender_input = keras.Input(shape=(2,),name = 'gender')\n",
    "    gender_concat =layers.concatenate([output_image,gender_input])\n",
    "    output_gen = Dense(1,activation='linear')(gender_concat)\n",
    "    #gender_model = keras.Model(inputs = gender_input,outputs = output_gen)\n",
    "\n",
    "\n",
    "    model = keras.Model(inputs =[pretrain_model.input, gender_input],outputs=[output_gen])\n",
    "\n",
    "    return model\n",
    "    "
   ]
  },
  {
   "cell_type": "code",
   "execution_count": 7,
   "id": "e5214400",
   "metadata": {
    "execution": {
     "iopub.execute_input": "2022-07-02T16:50:38.255575Z",
     "iopub.status.busy": "2022-07-02T16:50:38.254643Z",
     "iopub.status.idle": "2022-07-02T16:50:38.259517Z",
     "shell.execute_reply": "2022-07-02T16:50:38.259937Z",
     "shell.execute_reply.started": "2021-08-02T16:14:42.441397Z"
    },
    "papermill": {
     "duration": 0.022517,
     "end_time": "2022-07-02T16:50:38.260111",
     "exception": false,
     "start_time": "2022-07-02T16:50:38.237594",
     "status": "completed"
    },
    "tags": []
   },
   "outputs": [],
   "source": [
    "def create_generator(dataframe,image_size,path_directory,bbatch_size):\n",
    "    target_size = (image_size, image_size, 3)\n",
    "    \n",
    "    generator = CustomDataGen(dataframe,\n",
    "                             directory=path_directory,\n",
    "                             X_col={'id':'id','Sex': 'Sex'},\n",
    "                             y_col={'boneage': 'boneage'},\n",
    "                             batch_size=bbatch_size, input_size=target_size)\n",
    "    return generator"
   ]
  },
  {
   "cell_type": "code",
   "execution_count": 8,
   "id": "1f3b9674",
   "metadata": {
    "execution": {
     "iopub.execute_input": "2022-07-02T16:50:38.292597Z",
     "iopub.status.busy": "2022-07-02T16:50:38.291665Z",
     "iopub.status.idle": "2022-07-02T17:15:28.611004Z",
     "shell.execute_reply": "2022-07-02T17:15:28.611604Z",
     "shell.execute_reply.started": "2021-08-02T16:14:45.283948Z"
    },
    "papermill": {
     "duration": 1490.337451,
     "end_time": "2022-07-02T17:15:28.612062",
     "exception": false,
     "start_time": "2022-07-02T16:50:38.274611",
     "status": "completed"
    },
    "tags": []
   },
   "outputs": [
    {
     "name": "stdout",
     "output_type": "stream",
     "text": [
      "Downloading data from https://storage.googleapis.com/tensorflow/keras-applications/densenet/densenet121_weights_tf_dim_ordering_tf_kernels_notop.h5\n",
      "29089792/29084464 [==============================] - 0s 0us/step\n",
      "Model Load Done\n",
      "Generator Created\n",
      "Start Training...\n",
      "Test\n",
      "2523\n",
      "Train\n",
      "10088\n"
     ]
    }
   ],
   "source": [
    "from keras.applications import DenseNet121 as pre_model\n",
    "image_size =224\n",
    "pretrain_model = pre_model(input_shape=(image_size, image_size, 3), include_top=False, weights='imagenet')\n",
    "DenseNet121_model = create_model(pretrain_model)\n",
    "DenseNet121_model.load_weights('../input/bone-age-detection-all-weights/DenseNet121_weights.h5')\n",
    "print('Model Load Done')\n",
    "\n",
    "\n",
    "bbatch_size = 1\n",
    "direc = '../input/rsna-bone-age/boneage-training-dataset/boneage-training-dataset/'\n",
    "DenseNet121_testgen = create_generator(test_df,image_size,direc,bbatch_size)\n",
    "DenseNet121_traingen = create_generator(train_df,image_size,direc,bbatch_size)\n",
    "print('Generator Created')\n",
    "print('Start Training...')\n",
    "\n",
    "\n",
    "DenseNet121_test = np.asarray(DenseNet121_model.predict(DenseNet121_testgen)).flatten()\n",
    "print('Test')\n",
    "print(len(DenseNet121_test))\n",
    "DenseNet121_train = np.asarray(DenseNet121_model.predict(DenseNet121_traingen)).flatten()\n",
    "print('Train')\n",
    "print(len(DenseNet121_train))"
   ]
  },
  {
   "cell_type": "code",
   "execution_count": 9,
   "id": "84ff4535",
   "metadata": {
    "execution": {
     "iopub.execute_input": "2022-07-02T17:15:28.660287Z",
     "iopub.status.busy": "2022-07-02T17:15:28.655406Z",
     "iopub.status.idle": "2022-07-02T17:43:58.160947Z",
     "shell.execute_reply": "2022-07-02T17:43:58.161409Z"
    },
    "papermill": {
     "duration": 1709.532684,
     "end_time": "2022-07-02T17:43:58.161603",
     "exception": false,
     "start_time": "2022-07-02T17:15:28.628919",
     "status": "completed"
    },
    "tags": []
   },
   "outputs": [
    {
     "name": "stdout",
     "output_type": "stream",
     "text": [
      "Downloading data from https://storage.googleapis.com/tensorflow/keras-applications/densenet/densenet169_weights_tf_dim_ordering_tf_kernels_notop.h5\n",
      "51879936/51877672 [==============================] - 0s 0us/step\n",
      "Model Load Done\n",
      "Generator Created\n",
      "Start Training...\n",
      "Test\n",
      "2523\n",
      "Train\n",
      "10088\n"
     ]
    }
   ],
   "source": [
    "from keras.applications import DenseNet169 as pre_model\n",
    "image_size =224\n",
    "pretrain_model = pre_model(input_shape=(image_size, image_size, 3), include_top=False, weights='imagenet')\n",
    "DenseNet169_model = create_model(pretrain_model)\n",
    "DenseNet169_model.load_weights('../input/bone-age-detection-all-weights/DenseNet169_weights.h5')\n",
    "print('Model Load Done')\n",
    "\n",
    "\n",
    "bbatch_size = 1\n",
    "direc = '../input/rsna-bone-age/boneage-training-dataset/boneage-training-dataset/'\n",
    "DenseNet169_testgen = create_generator(test_df,image_size,direc,bbatch_size)\n",
    "DenseNet169_traingen = create_generator(train_df,image_size,direc,bbatch_size)\n",
    "print('Generator Created')\n",
    "print('Start Training...')\n",
    "\n",
    "\n",
    "DenseNet169_test = np.asarray(DenseNet169_model.predict(DenseNet169_testgen)).flatten()\n",
    "print('Test')\n",
    "print(len(DenseNet169_test))\n",
    "DenseNet169_train = np.asarray(DenseNet169_model.predict(DenseNet169_traingen)).flatten()\n",
    "print('Train')\n",
    "print(len(DenseNet169_train))"
   ]
  },
  {
   "cell_type": "code",
   "execution_count": 10,
   "id": "bdf310bf",
   "metadata": {
    "execution": {
     "iopub.execute_input": "2022-07-02T17:43:58.204674Z",
     "iopub.status.busy": "2022-07-02T17:43:58.204093Z",
     "iopub.status.idle": "2022-07-02T18:18:17.269186Z",
     "shell.execute_reply": "2022-07-02T18:18:17.269709Z"
    },
    "papermill": {
     "duration": 2059.088509,
     "end_time": "2022-07-02T18:18:17.269961",
     "exception": false,
     "start_time": "2022-07-02T17:43:58.181452",
     "status": "completed"
    },
    "tags": []
   },
   "outputs": [
    {
     "name": "stdout",
     "output_type": "stream",
     "text": [
      "Downloading data from https://storage.googleapis.com/tensorflow/keras-applications/densenet/densenet201_weights_tf_dim_ordering_tf_kernels_notop.h5\n",
      "74842112/74836368 [==============================] - 0s 0us/step\n",
      "Model Load Done\n",
      "Generator Created\n",
      "Start Training...\n",
      "Test\n",
      "2523\n",
      "Train\n",
      "10088\n"
     ]
    }
   ],
   "source": [
    "from keras.applications import DenseNet201 as pre_model\n",
    "image_size =224\n",
    "pretrain_model = pre_model(input_shape=(image_size, image_size, 3), include_top=False, weights='imagenet')\n",
    "DenseNet201_model = create_model(pretrain_model)\n",
    "DenseNet201_model.load_weights('../input/bone-age-detection-all-weights/DenseNet201_weights.h5')\n",
    "print('Model Load Done')\n",
    "\n",
    "\n",
    "bbatch_size = 1\n",
    "direc = '../input/rsna-bone-age/boneage-training-dataset/boneage-training-dataset/'\n",
    "DenseNet201_testgen = create_generator(test_df,image_size,direc,bbatch_size)\n",
    "DenseNet201_traingen = create_generator(train_df,image_size,direc,bbatch_size)\n",
    "print('Generator Created')\n",
    "print('Start Training...')\n",
    "\n",
    "\n",
    "DenseNet201_test = np.asarray(DenseNet201_model.predict(DenseNet201_testgen)).flatten()\n",
    "print('Test')\n",
    "print(len(DenseNet201_test))\n",
    "DenseNet201_train = np.asarray(DenseNet201_model.predict(DenseNet201_traingen)).flatten()\n",
    "print('Train')\n",
    "print(len(DenseNet201_train))"
   ]
  },
  {
   "cell_type": "code",
   "execution_count": 11,
   "id": "7f079258",
   "metadata": {
    "execution": {
     "iopub.execute_input": "2022-07-02T18:18:17.330614Z",
     "iopub.status.busy": "2022-07-02T18:18:17.329561Z",
     "iopub.status.idle": "2022-07-02T19:17:55.157327Z",
     "shell.execute_reply": "2022-07-02T19:17:55.157932Z"
    },
    "papermill": {
     "duration": 3577.865447,
     "end_time": "2022-07-02T19:17:55.158155",
     "exception": false,
     "start_time": "2022-07-02T18:18:17.292708",
     "status": "completed"
    },
    "tags": []
   },
   "outputs": [
    {
     "name": "stdout",
     "output_type": "stream",
     "text": [
      "Downloading data from https://storage.googleapis.com/tensorflow/keras-applications/inception_resnet_v2/inception_resnet_v2_weights_tf_dim_ordering_tf_kernels_notop.h5\n",
      "219062272/219055592 [==============================] - 2s 0us/step\n",
      "Model Load Done\n",
      "Generator Created\n",
      "Start Training...\n",
      "Test\n",
      "2523\n",
      "Train\n",
      "10088\n"
     ]
    }
   ],
   "source": [
    "from keras.applications import InceptionResNetV2 as pre_model\n",
    "image_size =299\n",
    "pretrain_model = pre_model(input_shape=(image_size, image_size, 3), include_top=False, weights='imagenet')\n",
    "InceptionResNetV2_model = create_model(pretrain_model)\n",
    "InceptionResNetV2_model.load_weights('../input/bone-age-detection-all-weights/InceptionResNet_weights.h5')\n",
    "print('Model Load Done')\n",
    "\n",
    "\n",
    "bbatch_size = 1\n",
    "direc = '../input/rsna-bone-age/boneage-training-dataset/boneage-training-dataset/'\n",
    "InceptionResNetV2_testgen = create_generator(test_df,image_size,direc,bbatch_size)\n",
    "InceptionResNetV2_traingen = create_generator(train_df,image_size,direc,bbatch_size)\n",
    "print('Generator Created')\n",
    "print('Start Training...')\n",
    "\n",
    "\n",
    "InceptionResNetV2_test = np.asarray(InceptionResNetV2_model.predict(InceptionResNetV2_testgen)).flatten()\n",
    "print('Test')\n",
    "print(len(InceptionResNetV2_test))\n",
    "InceptionResNetV2_train = np.asarray(InceptionResNetV2_model.predict(InceptionResNetV2_traingen)).flatten()\n",
    "print('Train')\n",
    "print(len(InceptionResNetV2_train))"
   ]
  },
  {
   "cell_type": "code",
   "execution_count": 12,
   "id": "b4c8939a",
   "metadata": {
    "execution": {
     "iopub.execute_input": "2022-07-02T19:17:55.239465Z",
     "iopub.status.busy": "2022-07-02T19:17:55.237440Z",
     "iopub.status.idle": "2022-07-02T19:46:10.412579Z",
     "shell.execute_reply": "2022-07-02T19:46:10.413128Z"
    },
    "papermill": {
     "duration": 1695.223134,
     "end_time": "2022-07-02T19:46:10.413339",
     "exception": false,
     "start_time": "2022-07-02T19:17:55.190205",
     "status": "completed"
    },
    "tags": []
   },
   "outputs": [
    {
     "name": "stdout",
     "output_type": "stream",
     "text": [
      "Downloading data from https://storage.googleapis.com/tensorflow/keras-applications/inception_v3/inception_v3_weights_tf_dim_ordering_tf_kernels_notop.h5\n",
      "87916544/87910968 [==============================] - 2s 0us/step\n",
      "Model Load Done\n",
      "Generator Created\n",
      "Start Training...\n",
      "Test\n",
      "2523\n",
      "Train\n",
      "10088\n"
     ]
    }
   ],
   "source": [
    "from keras.applications import InceptionV3 as pre_model\n",
    "image_size =299\n",
    "pretrain_model = pre_model(input_shape=(image_size, image_size, 3), include_top=False, weights='imagenet')\n",
    "InceptionV3_model = create_model(pretrain_model)\n",
    "InceptionV3_model.load_weights('../input/bone-age-detection-all-weights/InceptionV3_weights.h5')\n",
    "print('Model Load Done')\n",
    "\n",
    "\n",
    "bbatch_size = 1\n",
    "direc = '../input/rsna-bone-age/boneage-training-dataset/boneage-training-dataset/'\n",
    "InceptionV3_testgen = create_generator(test_df,image_size,direc,bbatch_size)\n",
    "InceptionV3_traingen = create_generator(train_df,image_size,direc,bbatch_size)\n",
    "print('Generator Created')\n",
    "print('Start Training...')\n",
    "\n",
    "\n",
    "InceptionV3_test = np.asarray(InceptionV3_model.predict(InceptionV3_testgen)).flatten()\n",
    "print('Test')\n",
    "print(len(InceptionV3_test))\n",
    "InceptionV3_train = np.asarray(InceptionV3_model.predict(InceptionV3_traingen)).flatten()\n",
    "print('Train')\n",
    "print(len(InceptionV3_train))"
   ]
  },
  {
   "cell_type": "code",
   "execution_count": 13,
   "id": "95ed4ce3",
   "metadata": {
    "execution": {
     "iopub.execute_input": "2022-07-02T19:46:10.490615Z",
     "iopub.status.busy": "2022-07-02T19:46:10.489637Z",
     "iopub.status.idle": "2022-07-02T20:01:27.978955Z",
     "shell.execute_reply": "2022-07-02T20:01:27.979559Z"
    },
    "papermill": {
     "duration": 917.529144,
     "end_time": "2022-07-02T20:01:27.979782",
     "exception": false,
     "start_time": "2022-07-02T19:46:10.450638",
     "status": "completed"
    },
    "tags": []
   },
   "outputs": [
    {
     "name": "stdout",
     "output_type": "stream",
     "text": [
      "Downloading data from https://storage.googleapis.com/tensorflow/keras-applications/mobilenet_v2/mobilenet_v2_weights_tf_dim_ordering_tf_kernels_1.0_224_no_top.h5\n",
      "9412608/9406464 [==============================] - 0s 0us/step\n",
      "Model Load Done\n",
      "Generator Created\n",
      "Start Training...\n",
      "Test\n",
      "2523\n",
      "Train\n",
      "10088\n"
     ]
    }
   ],
   "source": [
    "from keras.applications import MobileNetV2 as pre_model\n",
    "image_size =224\n",
    "pretrain_model = pre_model(input_shape=(image_size, image_size, 3), include_top=False, weights='imagenet')\n",
    "MobileNetV2_model = create_model(pretrain_model)\n",
    "MobileNetV2_model.load_weights('../input/bone-age-detection-all-weights/MobileNetV2_weights.h5')\n",
    "print('Model Load Done')\n",
    "\n",
    "\n",
    "bbatch_size = 1\n",
    "direc = '../input/rsna-bone-age/boneage-training-dataset/boneage-training-dataset/'\n",
    "MobileNetV2_testgen = create_generator(test_df,image_size,direc,bbatch_size)\n",
    "MobileNetV2_traingen = create_generator(train_df,image_size,direc,bbatch_size)\n",
    "print('Generator Created')\n",
    "print('Start Training...')\n",
    "\n",
    "\n",
    "MobileNetV2_test = np.asarray(MobileNetV2_model.predict(MobileNetV2_testgen)).flatten()\n",
    "print('Test')\n",
    "print(len(MobileNetV2_test))\n",
    "MobileNetV2_train = np.asarray(MobileNetV2_model.predict(MobileNetV2_traingen)).flatten()\n",
    "print('Train')\n",
    "print(len(MobileNetV2_train))"
   ]
  },
  {
   "cell_type": "code",
   "execution_count": 14,
   "id": "a4ded1d7",
   "metadata": {
    "execution": {
     "iopub.execute_input": "2022-07-02T20:01:28.071541Z",
     "iopub.status.busy": "2022-07-02T20:01:28.069322Z",
     "iopub.status.idle": "2022-07-02T20:15:49.172495Z",
     "shell.execute_reply": "2022-07-02T20:15:49.172982Z"
    },
    "papermill": {
     "duration": 861.154528,
     "end_time": "2022-07-02T20:15:49.173229",
     "exception": false,
     "start_time": "2022-07-02T20:01:28.018701",
     "status": "completed"
    },
    "tags": []
   },
   "outputs": [
    {
     "name": "stdout",
     "output_type": "stream",
     "text": [
      "Downloading data from https://storage.googleapis.com/tensorflow/keras-applications/mobilenet/mobilenet_1_0_224_tf_no_top.h5\n",
      "17227776/17225924 [==============================] - 1s 0us/step\n",
      "Model Load Done\n",
      "Generator Created\n",
      "Start Training...\n",
      "Test\n",
      "2523\n",
      "Train\n",
      "10088\n"
     ]
    }
   ],
   "source": [
    "from keras.applications import MobileNet as pre_model\n",
    "image_size =224\n",
    "pretrain_model = pre_model(input_shape=(image_size, image_size, 3), include_top=False, weights='imagenet')\n",
    "MobileNet_model = create_model(pretrain_model)\n",
    "MobileNet_model.load_weights('../input/bone-age-detection-all-weights/MobileNet_weights.h5')\n",
    "print('Model Load Done')\n",
    "\n",
    "\n",
    "bbatch_size = 1\n",
    "direc = '../input/rsna-bone-age/boneage-training-dataset/boneage-training-dataset/'\n",
    "MobileNet_testgen = create_generator(test_df,image_size,direc,bbatch_size)\n",
    "MobileNet_traingen = create_generator(train_df,image_size,direc,bbatch_size)\n",
    "print('Generator Created')\n",
    "print('Start Training...')\n",
    "\n",
    "\n",
    "MobileNet_test = np.asarray(MobileNet_model.predict(MobileNet_testgen)).flatten()\n",
    "print('Test')\n",
    "print(len(MobileNet_test))\n",
    "MobileNet_train = np.asarray(MobileNet_model.predict(MobileNet_traingen)).flatten()\n",
    "print('Train')\n",
    "print(len(MobileNet_train))"
   ]
  },
  {
   "cell_type": "code",
   "execution_count": 15,
   "id": "ae7dee12",
   "metadata": {
    "execution": {
     "iopub.execute_input": "2022-07-02T20:15:49.276513Z",
     "iopub.status.busy": "2022-07-02T20:15:49.271834Z",
     "iopub.status.idle": "2022-07-02T22:42:50.381105Z",
     "shell.execute_reply": "2022-07-02T22:42:50.382042Z"
    },
    "papermill": {
     "duration": 8821.17059,
     "end_time": "2022-07-02T22:42:50.383285",
     "exception": false,
     "start_time": "2022-07-02T20:15:49.212695",
     "status": "completed"
    },
    "tags": []
   },
   "outputs": [
    {
     "name": "stdout",
     "output_type": "stream",
     "text": [
      "Downloading data from https://storage.googleapis.com/tensorflow/keras-applications/nasnet/NASNet-large-no-top.h5\n",
      "343613440/343610240 [==============================] - 6s 0us/step\n",
      "Model Load Done\n",
      "Generator Created\n",
      "Start Training...\n",
      "Test\n",
      "2523\n",
      "Train\n",
      "10088\n"
     ]
    }
   ],
   "source": [
    "from keras.applications import NASNetLarge as pre_model\n",
    "image_size =331\n",
    "pretrain_model = pre_model(input_shape=(image_size, image_size, 3), include_top=False, weights='imagenet')\n",
    "NASNetLarge_model = create_model(pretrain_model)\n",
    "NASNetLarge_model.load_weights('../input/bone-age-detection-all-weights/NasNetLarge_weights.h5')\n",
    "print('Model Load Done')\n",
    "\n",
    "\n",
    "bbatch_size = 1\n",
    "direc = '../input/rsna-bone-age/boneage-training-dataset/boneage-training-dataset/'\n",
    "NASNetLarge_testgen = create_generator(test_df,image_size,direc,bbatch_size)\n",
    "NASNetLarge_traingen = create_generator(train_df,image_size,direc,bbatch_size)\n",
    "print('Generator Created')\n",
    "print('Start Training...')\n",
    "\n",
    "\n",
    "NASNetLarge_test = np.asarray(NASNetLarge_model.predict(NASNetLarge_testgen)).flatten()\n",
    "print('Test')\n",
    "print(len(NASNetLarge_test))\n",
    "NASNetLarge_train = np.asarray(NASNetLarge_model.predict(NASNetLarge_traingen)).flatten()\n",
    "print('Train')\n",
    "print(len(NASNetLarge_train))"
   ]
  },
  {
   "cell_type": "code",
   "execution_count": 16,
   "id": "3b498dfa",
   "metadata": {
    "execution": {
     "iopub.execute_input": "2022-07-02T22:42:50.790181Z",
     "iopub.status.busy": "2022-07-02T22:42:50.789486Z",
     "iopub.status.idle": "2022-07-02T23:05:30.338738Z",
     "shell.execute_reply": "2022-07-02T23:05:30.339548Z"
    },
    "papermill": {
     "duration": 1359.612446,
     "end_time": "2022-07-02T23:05:30.340506",
     "exception": false,
     "start_time": "2022-07-02T22:42:50.728060",
     "status": "completed"
    },
    "tags": []
   },
   "outputs": [
    {
     "name": "stdout",
     "output_type": "stream",
     "text": [
      "Downloading data from https://storage.googleapis.com/tensorflow/keras-applications/nasnet/NASNet-mobile-no-top.h5\n",
      "19996672/19993432 [==============================] - 0s 0us/step\n",
      "Model Load Done\n",
      "Generator Created\n",
      "Start Training...\n",
      "Test\n",
      "2523\n",
      "Train\n",
      "10088\n"
     ]
    }
   ],
   "source": [
    "from keras.applications import NASNetMobile as pre_model\n",
    "image_size =224\n",
    "pretrain_model = pre_model(input_shape=(image_size, image_size, 3), include_top=False, weights='imagenet')\n",
    "NASNetMobile_model = create_model(pretrain_model)\n",
    "NASNetMobile_model.load_weights('../input/bone-age-detection-all-weights/NasNetMobile_weights.h5')\n",
    "print('Model Load Done')\n",
    "\n",
    "\n",
    "bbatch_size = 1\n",
    "direc = '../input/rsna-bone-age/boneage-training-dataset/boneage-training-dataset/'\n",
    "NASNetMobile_testgen = create_generator(test_df,image_size,direc,bbatch_size)\n",
    "NASNetMobile_traingen = create_generator(train_df,image_size,direc,bbatch_size)\n",
    "print('Generator Created')\n",
    "print('Start Training...')\n",
    "\n",
    "\n",
    "NASNetMobile_test = np.asarray(NASNetMobile_model.predict(NASNetMobile_testgen)).flatten()\n",
    "print('Test')\n",
    "print(len(NASNetMobile_test))\n",
    "NASNetMobile_train = np.asarray(NASNetMobile_model.predict(NASNetMobile_traingen)).flatten()\n",
    "print('Train')\n",
    "print(len(NASNetMobile_train))"
   ]
  },
  {
   "cell_type": "code",
   "execution_count": 17,
   "id": "99cb3399",
   "metadata": {
    "execution": {
     "iopub.execute_input": "2022-07-02T23:05:30.465397Z",
     "iopub.status.busy": "2022-07-02T23:05:30.464603Z",
     "iopub.status.idle": "2022-07-02T23:44:01.392088Z",
     "shell.execute_reply": "2022-07-02T23:44:01.392973Z"
    },
    "papermill": {
     "duration": 2310.995692,
     "end_time": "2022-07-02T23:44:01.393994",
     "exception": false,
     "start_time": "2022-07-02T23:05:30.398302",
     "status": "completed"
    },
    "tags": []
   },
   "outputs": [
    {
     "name": "stdout",
     "output_type": "stream",
     "text": [
      "Downloading data from https://storage.googleapis.com/tensorflow/keras-applications/resnet/resnet101v2_weights_tf_dim_ordering_tf_kernels_notop.h5\n",
      "171319296/171317808 [==============================] - 4s 0us/step\n",
      "Model Load Done\n",
      "Generator Created\n",
      "Start Training...\n",
      "Test\n",
      "2523\n",
      "Train\n",
      "10088\n"
     ]
    }
   ],
   "source": [
    "from keras.applications import ResNet101V2 as pre_model\n",
    "image_size =224\n",
    "pretrain_model = pre_model(input_shape=(image_size, image_size, 3), include_top=False, weights='imagenet')\n",
    "ResNet101V2_model = create_model(pretrain_model)\n",
    "ResNet101V2_model.load_weights('../input/bone-age-detection-all-weights/ResNet101V2_weights.h5')\n",
    "print('Model Load Done')\n",
    "\n",
    "\n",
    "bbatch_size = 1\n",
    "direc = '../input/rsna-bone-age/boneage-training-dataset/boneage-training-dataset/'\n",
    "ResNet101V2_testgen = create_generator(test_df,image_size,direc,bbatch_size)\n",
    "ResNet101V2_traingen = create_generator(train_df,image_size,direc,bbatch_size)\n",
    "print('Generator Created')\n",
    "print('Start Training...')\n",
    "\n",
    "\n",
    "ResNet101V2_test = np.asarray(ResNet101V2_model.predict(ResNet101V2_testgen)).flatten()\n",
    "print('Test')\n",
    "print(len(ResNet101V2_test))\n",
    "ResNet101V2_train = np.asarray(ResNet101V2_model.predict(ResNet101V2_traingen)).flatten()\n",
    "print('Train')\n",
    "print(len(ResNet101V2_train))"
   ]
  },
  {
   "cell_type": "code",
   "execution_count": 18,
   "id": "f38f562d",
   "metadata": {
    "execution": {
     "iopub.execute_input": "2022-07-02T23:44:01.533149Z",
     "iopub.status.busy": "2022-07-02T23:44:01.532039Z",
     "iopub.status.idle": "2022-07-03T00:38:51.890639Z",
     "shell.execute_reply": "2022-07-03T00:38:51.891486Z"
    },
    "papermill": {
     "duration": 3290.433706,
     "end_time": "2022-07-03T00:38:51.892465",
     "exception": false,
     "start_time": "2022-07-02T23:44:01.458759",
     "status": "completed"
    },
    "tags": []
   },
   "outputs": [
    {
     "name": "stdout",
     "output_type": "stream",
     "text": [
      "Downloading data from https://storage.googleapis.com/tensorflow/keras-applications/resnet/resnet152v2_weights_tf_dim_ordering_tf_kernels_notop.h5\n",
      "234553344/234545216 [==============================] - 3s 0us/step\n",
      "Model Load Done\n",
      "Generator Created\n",
      "Start Training...\n",
      "Test\n",
      "2523\n",
      "Train\n",
      "10088\n"
     ]
    }
   ],
   "source": [
    "from keras.applications import ResNet152V2 as pre_model\n",
    "image_size =224\n",
    "pretrain_model = pre_model(input_shape=(image_size, image_size, 3), include_top=False, weights='imagenet')\n",
    "ResNet152V2_model = create_model(pretrain_model)\n",
    "ResNet152V2_model.load_weights('../input/bone-age-detection-all-weights/ResNet152V2_weights.h5')\n",
    "print('Model Load Done')\n",
    "\n",
    "\n",
    "bbatch_size = 1\n",
    "direc = '../input/rsna-bone-age/boneage-training-dataset/boneage-training-dataset/'\n",
    "ResNet152V2_testgen = create_generator(test_df,image_size,direc,bbatch_size)\n",
    "ResNet152V2_traingen = create_generator(train_df,image_size,direc,bbatch_size)\n",
    "print('Generator Created')\n",
    "print('Start Training...')\n",
    "\n",
    "\n",
    "ResNet152V2_test = np.asarray(ResNet152V2_model.predict(ResNet152V2_testgen)).flatten()\n",
    "print('Test')\n",
    "print(len(ResNet152V2_test))\n",
    "ResNet152V2_train = np.asarray(ResNet152V2_model.predict(ResNet152V2_traingen)).flatten()\n",
    "print('Train')\n",
    "print(len(ResNet152V2_train))"
   ]
  },
  {
   "cell_type": "code",
   "execution_count": 19,
   "id": "53266747",
   "metadata": {
    "execution": {
     "iopub.execute_input": "2022-07-03T00:38:52.063424Z",
     "iopub.status.busy": "2022-07-03T00:38:52.058170Z",
     "iopub.status.idle": "2022-07-03T01:32:31.378139Z",
     "shell.execute_reply": "2022-07-03T01:32:31.378886Z"
    },
    "papermill": {
     "duration": 3219.410201,
     "end_time": "2022-07-03T01:32:31.379957",
     "exception": false,
     "start_time": "2022-07-03T00:38:51.969756",
     "status": "completed"
    },
    "tags": []
   },
   "outputs": [
    {
     "name": "stdout",
     "output_type": "stream",
     "text": [
      "Downloading data from https://storage.googleapis.com/tensorflow/keras-applications/vgg16/vgg16_weights_tf_dim_ordering_tf_kernels_notop.h5\n",
      "58892288/58889256 [==============================] - 0s 0us/step\n",
      "Model Load Done\n",
      "Generator Created\n",
      "Start Training...\n",
      "Test\n",
      "2523\n",
      "Train\n",
      "10088\n"
     ]
    }
   ],
   "source": [
    "from keras.applications import VGG16 as pre_model\n",
    "image_size =224\n",
    "pretrain_model = pre_model(input_shape=(image_size, image_size, 3), include_top=False, weights='imagenet')\n",
    "VGG16_model = create_model(pretrain_model)\n",
    "VGG16_model.load_weights('../input/bone-age-detection-all-weights/VGG-16_weights.h5')\n",
    "print('Model Load Done')\n",
    "\n",
    "\n",
    "bbatch_size = 1\n",
    "direc = '../input/rsna-bone-age/boneage-training-dataset/boneage-training-dataset/'\n",
    "VGG16_testgen = create_generator(test_df,image_size,direc,bbatch_size)\n",
    "VGG16_traingen = create_generator(train_df,image_size,direc,bbatch_size)\n",
    "print('Generator Created')\n",
    "print('Start Training...')\n",
    "\n",
    "\n",
    "VGG16_test = np.asarray(VGG16_model.predict(VGG16_testgen)).flatten()\n",
    "print('Test')\n",
    "print(len(VGG16_test))\n",
    "VGG16_train = np.asarray(VGG16_model.predict(VGG16_traingen)).flatten()\n",
    "print('Train')\n",
    "print(len(VGG16_train))"
   ]
  },
  {
   "cell_type": "code",
   "execution_count": 20,
   "id": "e8c19adb",
   "metadata": {
    "execution": {
     "iopub.execute_input": "2022-07-03T01:32:31.545244Z",
     "iopub.status.busy": "2022-07-03T01:32:31.544374Z",
     "iopub.status.idle": "2022-07-03T02:38:18.601318Z",
     "shell.execute_reply": "2022-07-03T02:38:18.602003Z"
    },
    "papermill": {
     "duration": 3947.14193,
     "end_time": "2022-07-03T02:38:18.602314",
     "exception": false,
     "start_time": "2022-07-03T01:32:31.460384",
     "status": "completed"
    },
    "tags": []
   },
   "outputs": [
    {
     "name": "stdout",
     "output_type": "stream",
     "text": [
      "Downloading data from https://storage.googleapis.com/tensorflow/keras-applications/vgg19/vgg19_weights_tf_dim_ordering_tf_kernels_notop.h5\n",
      "80142336/80134624 [==============================] - 1s 0us/step\n",
      "Model Load Done\n",
      "Generator Created\n",
      "Start Training...\n",
      "Test\n",
      "2523\n",
      "Train\n",
      "10088\n"
     ]
    }
   ],
   "source": [
    "from keras.applications import VGG19 as pre_model\n",
    "image_size =224\n",
    "pretrain_model = pre_model(input_shape=(image_size, image_size, 3), include_top=False, weights='imagenet')\n",
    "VGG19_model = create_model(pretrain_model)\n",
    "VGG19_model.load_weights('../input/bone-age-detection-all-weights/VGG-19_weights.h5')\n",
    "print('Model Load Done')\n",
    "\n",
    "\n",
    "bbatch_size = 1\n",
    "direc = '../input/rsna-bone-age/boneage-training-dataset/boneage-training-dataset/'\n",
    "VGG19_testgen = create_generator(test_df,image_size,direc,bbatch_size)\n",
    "VGG19_traingen = create_generator(train_df,image_size,direc,bbatch_size)\n",
    "print('Generator Created')\n",
    "print('Start Training...')\n",
    "\n",
    "\n",
    "VGG19_test = np.asarray(VGG19_model.predict(VGG19_testgen)).flatten()\n",
    "print('Test')\n",
    "print(len(VGG19_test))\n",
    "VGG19_train = np.asarray(VGG19_model.predict(VGG19_traingen)).flatten()\n",
    "print('Train')\n",
    "print(len(VGG19_train))"
   ]
  },
  {
   "cell_type": "code",
   "execution_count": 21,
   "id": "6281ad73",
   "metadata": {
    "execution": {
     "iopub.execute_input": "2022-07-03T02:38:18.785315Z",
     "iopub.status.busy": "2022-07-03T02:38:18.784245Z",
     "iopub.status.idle": "2022-07-03T03:24:38.107645Z",
     "shell.execute_reply": "2022-07-03T03:24:38.108248Z"
    },
    "papermill": {
     "duration": 2779.424134,
     "end_time": "2022-07-03T03:24:38.108542",
     "exception": false,
     "start_time": "2022-07-03T02:38:18.684408",
     "status": "completed"
    },
    "tags": []
   },
   "outputs": [
    {
     "name": "stdout",
     "output_type": "stream",
     "text": [
      "Downloading data from https://storage.googleapis.com/tensorflow/keras-applications/xception/xception_weights_tf_dim_ordering_tf_kernels_notop.h5\n",
      "83689472/83683744 [==============================] - 1s 0us/step\n",
      "Model Load Done\n",
      "Generator Created\n",
      "Start Training...\n",
      "Test\n",
      "2523\n",
      "Train\n",
      "10088\n"
     ]
    }
   ],
   "source": [
    "from keras.applications import Xception as pre_model\n",
    "image_size =299\n",
    "pretrain_model = pre_model(input_shape=(image_size, image_size, 3), include_top=False, weights='imagenet')\n",
    "Xception_model = create_model(pretrain_model)\n",
    "Xception_model.load_weights('../input/bone-age-detection-all-weights/Xception_weights.h5')\n",
    "print('Model Load Done')\n",
    "\n",
    "\n",
    "bbatch_size = 1\n",
    "direc = '../input/rsna-bone-age/boneage-training-dataset/boneage-training-dataset/'\n",
    "Xception_testgen = create_generator(test_df,image_size,direc,bbatch_size)\n",
    "Xception_traingen = create_generator(train_df,image_size,direc,bbatch_size)\n",
    "print('Generator Created')\n",
    "print('Start Training...')\n",
    "\n",
    "\n",
    "Xception_test = np.asarray(Xception_model.predict(Xception_testgen)).flatten()\n",
    "print('Test')\n",
    "print(len(Xception_test))\n",
    "Xception_train = np.asarray(Xception_model.predict(Xception_traingen)).flatten()\n",
    "print('Train')\n",
    "print(len(Xception_train))"
   ]
  },
  {
   "cell_type": "code",
   "execution_count": 22,
   "id": "cdabc4d5",
   "metadata": {
    "execution": {
     "iopub.execute_input": "2022-07-03T03:24:38.287600Z",
     "iopub.status.busy": "2022-07-03T03:24:38.286632Z",
     "iopub.status.idle": "2022-07-03T03:24:38.516855Z",
     "shell.execute_reply": "2022-07-03T03:24:38.517286Z"
    },
    "papermill": {
     "duration": 0.322126,
     "end_time": "2022-07-03T03:24:38.517464",
     "exception": false,
     "start_time": "2022-07-03T03:24:38.195338",
     "status": "completed"
    },
    "tags": []
   },
   "outputs": [
    {
     "name": "stdout",
     "output_type": "stream",
     "text": [
      "    GT  DenseNet121  DenseNet169  DenseNet201  InceptionResNetV2  InceptionV3  \\\n",
      "0  132   124.704643   147.041565   141.995026         136.747604   137.403656   \n",
      "1  168   163.556061   159.781235   159.573807         167.169601   169.998459   \n",
      "2  162   143.877441   144.899078   149.350800         159.044571   161.347260   \n",
      "3  162   170.720093   159.217590   163.647507         166.479462   161.176208   \n",
      "4  168   166.893616   173.117661   158.186142         162.785767   170.292709   \n",
      "\n",
      "   MobileNetV2   MobileNet  NASNetLarge  NASNetMobile  ResNet101V2  \\\n",
      "0   125.635910  133.086380   130.202728    135.204132   137.127441   \n",
      "1   160.012207  170.389648   165.332092    168.352402   165.000000   \n",
      "2   163.003220  163.888397   157.763977    162.643616   151.092621   \n",
      "3   162.123520  163.971222   155.176544    158.054688   160.031372   \n",
      "4   159.768723  166.949692   163.965088    166.140610   170.354828   \n",
      "\n",
      "   ResNet152V2       VGG16       VGG19    Xception  \n",
      "0   131.821457  143.008057  119.155495  124.155159  \n",
      "1   209.409500  198.241837  167.462448  163.919739  \n",
      "2   140.964035  178.792221  147.830841  165.362152  \n",
      "3   216.062057  199.211975  163.892242  161.264282  \n",
      "4   198.126968  204.917633  157.316635  165.737076  \n",
      "        GT  DenseNet121  DenseNet169  DenseNet201  InceptionResNetV2  \\\n",
      "10083   60    46.998154    58.245457    54.443600          65.320107   \n",
      "10084  106   103.994003   115.766960   102.867317         104.771461   \n",
      "10085  120   109.364670   119.532677   124.554054         125.225792   \n",
      "10086  144   144.471222   140.735703   148.866516         148.244675   \n",
      "10087   72    86.792198    91.520950   105.072021          76.245193   \n",
      "\n",
      "       InceptionV3  MobileNetV2   MobileNet  NASNetLarge  NASNetMobile  \\\n",
      "10083    55.413322    62.417744   61.091274    63.345299     59.334389   \n",
      "10084   104.686234   121.412216  104.472908   107.295509    106.229660   \n",
      "10085   118.630386   106.721916  118.722481   109.788094    122.495399   \n",
      "10086   151.714706   157.959396  144.924835   143.852051    146.456726   \n",
      "10087    71.561867    74.289383   72.833069    72.896126     64.647873   \n",
      "\n",
      "       ResNet101V2  ResNet152V2       VGG16       VGG19    Xception  \n",
      "10083    57.283287    45.541660   29.999901   39.921558   62.307369  \n",
      "10084   105.813789   148.388596  159.844055  113.481010  108.223862  \n",
      "10085   123.373024   133.132309  149.536850  116.311279  119.051270  \n",
      "10086   146.873901   196.524475  190.436295  143.059174  139.168579  \n",
      "10087    83.247757   107.748947  130.156509   71.651657   75.120125  \n"
     ]
    }
   ],
   "source": [
    "train_data = {\n",
    "    'GT' : GT_train,\n",
    "    'DenseNet121' : DenseNet121_train,\n",
    "    'DenseNet169' : DenseNet169_train,\n",
    "    'DenseNet201' : DenseNet201_train,\n",
    "    'InceptionResNetV2' : InceptionResNetV2_train,\n",
    "    'InceptionV3' : InceptionV3_train,\n",
    "    'MobileNetV2' : MobileNetV2_train,\n",
    "    'MobileNet' : MobileNet_train,\n",
    "    'NASNetLarge' : NASNetLarge_train,\n",
    "    'NASNetMobile' : NASNetMobile_train,\n",
    "    'ResNet101V2' : ResNet101V2_train,\n",
    "    'ResNet152V2' : ResNet152V2_train,\n",
    "    'VGG16' : VGG16_train,\n",
    "    'VGG19' : VGG19_train,\n",
    "    'Xception' : Xception_train\n",
    "    \n",
    "}\n",
    "\n",
    "train_dataframe = pd.DataFrame(train_data,columns = ['GT','DenseNet121','DenseNet169','DenseNet201','InceptionResNetV2','InceptionV3','MobileNetV2','MobileNet','NASNetLarge','NASNetMobile','ResNet101V2','ResNet152V2','VGG16','VGG19','Xception'])\n",
    "print(train_dataframe.head())\n",
    "print(train_dataframe.tail())\n",
    "train_dataframe.to_csv('Fire_train.csv')"
   ]
  },
  {
   "cell_type": "code",
   "execution_count": 23,
   "id": "30055d7c",
   "metadata": {
    "execution": {
     "iopub.execute_input": "2022-07-03T03:24:38.702505Z",
     "iopub.status.busy": "2022-07-03T03:24:38.701481Z",
     "iopub.status.idle": "2022-07-03T03:24:38.758002Z",
     "shell.execute_reply": "2022-07-03T03:24:38.758421Z"
    },
    "papermill": {
     "duration": 0.152804,
     "end_time": "2022-07-03T03:24:38.758608",
     "exception": false,
     "start_time": "2022-07-03T03:24:38.605804",
     "status": "completed"
    },
    "tags": []
   },
   "outputs": [
    {
     "name": "stdout",
     "output_type": "stream",
     "text": [
      "    GT  DenseNet121  DenseNet169  DenseNet201  InceptionResNetV2  InceptionV3  \\\n",
      "0   94    92.287689   112.896729   113.184540         100.027306   103.150352   \n",
      "1  174   174.616806   164.017929   174.928940         164.573715   167.706436   \n",
      "2  144   154.213806   142.910889   151.876099         161.770416   153.149170   \n",
      "3  168   170.734299   165.309418   171.187256         154.338562   164.622681   \n",
      "4  108   105.397675   105.510628   121.320709         131.033295   131.861481   \n",
      "\n",
      "   MobileNetV2   MobileNet  NASNetLarge  NASNetMobile  ResNet101V2  \\\n",
      "0   105.896248  105.699486   101.972626    102.021889   109.276474   \n",
      "1   169.165421  181.361771   172.389359    176.266571   167.355789   \n",
      "2   135.921326  149.306473   147.038757    148.637070   151.930069   \n",
      "3   153.340729  159.576599   159.371750    160.950211   159.165848   \n",
      "4   130.740250  115.557671   134.768021    118.084450   136.879211   \n",
      "\n",
      "   ResNet152V2       VGG16       VGG19    Xception  \n",
      "0   135.615265  131.287338  106.251366  119.042686  \n",
      "1   210.653885  194.479340  165.045395  170.269226  \n",
      "2   196.617065  179.004684  140.488113  153.915695  \n",
      "3   215.527313  195.297729  172.197098  160.595016  \n",
      "4   141.563797  127.113304  111.600746  121.305939  \n",
      "       GT  DenseNet121  DenseNet169  DenseNet201  InceptionResNetV2  \\\n",
      "2518  150   151.227585   148.251297   156.177719         151.575089   \n",
      "2519  132   134.086624   136.694931   136.686432         131.943497   \n",
      "2520  144   144.563904   139.417191   153.896622         150.940399   \n",
      "2521  156   160.281067   150.792114   156.952545         159.322144   \n",
      "2522   18    22.722237    31.790459    14.541223          13.684631   \n",
      "\n",
      "      InceptionV3  MobileNetV2   MobileNet  NASNetLarge  NASNetMobile  \\\n",
      "2518   153.084213   153.626373  150.540604   145.740295    153.180527   \n",
      "2519   135.941437   125.002533  129.985901   129.369141    132.769043   \n",
      "2520   146.625473   142.291855  142.993469   142.930313    140.816193   \n",
      "2521   162.085281   150.628372  154.055481   153.503754    153.538879   \n",
      "2522    21.797478    29.083323   22.105961    22.264051     27.247293   \n",
      "\n",
      "      ResNet101V2  ResNet152V2       VGG16       VGG19    Xception  \n",
      "2518   148.628662   189.235443  173.293121  155.210464  150.258453  \n",
      "2519   131.809189   157.809662  158.580566  132.915146  128.623566  \n",
      "2520   149.489456   190.225220  177.256241  146.227631  143.246368  \n",
      "2521   148.117355   182.046188  195.274811  161.854767  155.526596  \n",
      "2522    19.984747    26.368643    5.694272   18.649519   15.641603  \n"
     ]
    }
   ],
   "source": [
    "test_data = {\n",
    "    'GT' : GT_test,\n",
    "    'DenseNet121' : DenseNet121_test,\n",
    "    'DenseNet169' : DenseNet169_test,\n",
    "    'DenseNet201' : DenseNet201_test,\n",
    "    'InceptionResNetV2' : InceptionResNetV2_test,\n",
    "    'InceptionV3' : InceptionV3_test,\n",
    "    'MobileNetV2' : MobileNetV2_test,\n",
    "    'MobileNet' : MobileNet_test,\n",
    "    'NASNetLarge' : NASNetLarge_test,\n",
    "    'NASNetMobile' : NASNetMobile_test,\n",
    "    'ResNet101V2' : ResNet101V2_test,\n",
    "    'ResNet152V2' : ResNet152V2_test,\n",
    "    'VGG16' : VGG16_test,\n",
    "    'VGG19' : VGG19_test,\n",
    "    'Xception' : Xception_test\n",
    "    \n",
    "}\n",
    "\n",
    "test_dataframe = pd.DataFrame(test_data,columns = ['GT','DenseNet121','DenseNet169','DenseNet201','InceptionResNetV2','InceptionV3','MobileNetV2','MobileNet','NASNetLarge','NASNetMobile','ResNet101V2','ResNet152V2','VGG16','VGG19','Xception'])\n",
    "print(test_dataframe.head())\n",
    "print(test_dataframe.tail())\n",
    "test_dataframe.to_csv('Fire_train.csv')"
   ]
  }
 ],
 "metadata": {
  "kernelspec": {
   "display_name": "Python 3",
   "language": "python",
   "name": "python3"
  },
  "language_info": {
   "codemirror_mode": {
    "name": "ipython",
    "version": 3
   },
   "file_extension": ".py",
   "mimetype": "text/x-python",
   "name": "python",
   "nbconvert_exporter": "python",
   "pygments_lexer": "ipython3",
   "version": "3.7.10"
  },
  "papermill": {
   "default_parameters": {},
   "duration": 38058.822139,
   "end_time": "2022-07-03T03:24:41.886096",
   "environment_variables": {},
   "exception": null,
   "input_path": "__notebook__.ipynb",
   "output_path": "__notebook__.ipynb",
   "parameters": {},
   "start_time": "2022-07-02T16:50:23.063957",
   "version": "2.3.3"
  }
 },
 "nbformat": 4,
 "nbformat_minor": 5
}
