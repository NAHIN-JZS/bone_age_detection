{
 "cells": [
  {
   "cell_type": "code",
   "execution_count": 1,
   "id": "eacc1cde",
   "metadata": {
    "_cell_guid": "b1076dfc-b9ad-4769-8c92-a6c4dae69d19",
    "_uuid": "8f2839f25d086af736a60e9eeb907d3b93b6e0e5",
    "execution": {
     "iopub.execute_input": "2022-07-02T16:37:20.423118Z",
     "iopub.status.busy": "2022-07-02T16:37:20.422418Z",
     "iopub.status.idle": "2022-07-02T16:37:21.308362Z",
     "shell.execute_reply": "2022-07-02T16:37:21.307321Z",
     "shell.execute_reply.started": "2021-08-08T16:24:55.308914Z"
    },
    "papermill": {
     "duration": 0.912796,
     "end_time": "2022-07-02T16:37:21.308529",
     "exception": false,
     "start_time": "2022-07-02T16:37:20.395733",
     "status": "completed"
    },
    "tags": []
   },
   "outputs": [],
   "source": [
    "# This Python 3 environment comes with many helpful analytics libraries installed\n",
    "# It is defined by the kaggle/python Docker image: https://github.com/kaggle/docker-python\n",
    "# For example, here's several helpful packages to load\n",
    "\n",
    "import numpy as np # linear algebra\n",
    "import pandas as pd # data processing, CSV file I/O (e.g. pd.read_csv)\n",
    "from sklearn.model_selection import train_test_split\n",
    "\n",
    "#loading training and testing datasets\n",
    "df_train = pd.read_csv('../input/rsna-bone-age/boneage-training-dataset.csv')\n",
    "df_test = pd.read_csv('../input/rsna-bone-age/boneage-test-dataset.csv')\n",
    "\n",
    "#appending png file extension to id column for both training and testing datasets\n",
    "df_train['id'] = df_train['id'].apply(lambda x: str(x)+'.png')\n",
    "df_test['Case ID'] = df_test['Case ID'].apply(lambda x: str(x)+'.png')\n",
    "\n",
    "#Feature Engineering\n",
    "df_train['Sex'] = df_train['male'].apply(lambda x: '1' if x else '0')\n",
    "del(df_train['male'])\n",
    "df_test['id'] = df_test['Case ID']\n",
    "del(df_test['Case ID'])\n",
    "\n",
    "#splitting train datasets into traininng and validation datasets\n",
    "test_train_df, valid_df = train_test_split(df_train, test_size = 0.27, random_state = 0)\n",
    "train_df, test_df = train_test_split(test_train_df, test_size = 0.2, random_state = 0)\n",
    "test_df, orginal_test_df = train_test_split(test_df, test_size = 0.07, random_state = 0)\n",
    "\n",
    "orginal_test_df.to_csv('original_test_data.csv')"
   ]
  },
  {
   "cell_type": "code",
   "execution_count": null,
   "id": "caf11c97",
   "metadata": {
    "papermill": {
     "duration": 0.010511,
     "end_time": "2022-07-02T16:37:21.330979",
     "exception": false,
     "start_time": "2022-07-02T16:37:21.320468",
     "status": "completed"
    },
    "tags": []
   },
   "outputs": [],
   "source": []
  },
  {
   "cell_type": "code",
   "execution_count": 2,
   "id": "bf5f03fa",
   "metadata": {
    "execution": {
     "iopub.execute_input": "2022-07-02T16:37:21.355630Z",
     "iopub.status.busy": "2022-07-02T16:37:21.354265Z",
     "iopub.status.idle": "2022-07-02T16:37:21.356505Z",
     "shell.execute_reply": "2022-07-02T16:37:21.356942Z",
     "shell.execute_reply.started": "2021-08-08T16:24:56.190739Z"
    },
    "papermill": {
     "duration": 0.016007,
     "end_time": "2022-07-02T16:37:21.357074",
     "exception": false,
     "start_time": "2022-07-02T16:37:21.341067",
     "status": "completed"
    },
    "tags": []
   },
   "outputs": [],
   "source": [
    "# print(train_df.shape)\n",
    "# train_df.head()"
   ]
  },
  {
   "cell_type": "code",
   "execution_count": 3,
   "id": "8f0a9519",
   "metadata": {
    "execution": {
     "iopub.execute_input": "2022-07-02T16:37:21.385003Z",
     "iopub.status.busy": "2022-07-02T16:37:21.384337Z",
     "iopub.status.idle": "2022-07-02T16:37:30.707274Z",
     "shell.execute_reply": "2022-07-02T16:37:30.706362Z",
     "shell.execute_reply.started": "2021-08-08T16:24:56.200332Z"
    },
    "papermill": {
     "duration": 9.339768,
     "end_time": "2022-07-02T16:37:30.707424",
     "exception": false,
     "start_time": "2022-07-02T16:37:21.367656",
     "status": "completed"
    },
    "tags": []
   },
   "outputs": [
    {
     "name": "stdout",
     "output_type": "stream",
     "text": [
      "Downloading data from https://storage.googleapis.com/tensorflow/keras-applications/resnet/resnet50v2_weights_tf_dim_ordering_tf_kernels_notop.h5\n",
      "94674944/94668760 [==============================] - 0s 0us/step\n"
     ]
    }
   ],
   "source": [
    "from tensorflow import keras \n",
    "from tensorflow.keras import layers\n",
    "from tensorflow.keras.layers import Dense,GlobalAveragePooling2D\n",
    "\n",
    "#packages required for image preprocessing\n",
    "from tensorflow.keras.preprocessing import image\n",
    "from tensorflow.keras.metrics import mean_absolute_error\n",
    "import tensorflow as tf\n",
    "from keras.applications import ResNet50V2 as pre_model\n",
    "\n",
    "#image_size = 256\n",
    "image_size = 224\n",
    "#pretrain_model = ResNet50(input_shape=(image_size, image_size, 3), include_top=False, weights='imagenet')\n",
    "pretrain_model = pre_model(input_shape=(image_size, image_size, 3), include_top=False, weights='imagenet')\n",
    "x = pretrain_model.output\n",
    "x = GlobalAveragePooling2D()(x)\n",
    "x = Dense(1024,activation='relu')(x)\n",
    "x = Dense(1024,activation='relu')(x)\n",
    "x = Dense(512,activation='relu')(x)\n",
    "output_image = Dense(1,activation='linear')(x)\n",
    "\n",
    "#image_output = keras.Model(input=pretrain_model, output=output_image)\n",
    "gender_input = keras.Input(shape=(2,),name = 'gender')\n",
    "gender_concat =layers.concatenate([output_image,gender_input])\n",
    "output_gen = Dense(1,activation='linear')(gender_concat)\n",
    "#gender_model = keras.Model(inputs = gender_input,outputs = output_gen)\n",
    "\n",
    "\n",
    "model = keras.Model(inputs =[pretrain_model.input, gender_input],outputs=[output_gen])\n",
    "\n",
    "\n",
    "#keras.utils.plot_model(model, \"multi_input_and_output_model.png\", show_shapes=True)"
   ]
  },
  {
   "cell_type": "code",
   "execution_count": 4,
   "id": "53f12cf0",
   "metadata": {
    "execution": {
     "iopub.execute_input": "2022-07-02T16:37:30.747594Z",
     "iopub.status.busy": "2022-07-02T16:37:30.746761Z",
     "iopub.status.idle": "2022-07-02T16:37:30.753719Z",
     "shell.execute_reply": "2022-07-02T16:37:30.753164Z",
     "shell.execute_reply.started": "2021-08-08T16:25:04.681258Z"
    },
    "papermill": {
     "duration": 0.03288,
     "end_time": "2022-07-02T16:37:30.753846",
     "exception": false,
     "start_time": "2022-07-02T16:37:30.720966",
     "status": "completed"
    },
    "tags": []
   },
   "outputs": [],
   "source": [
    "model.compile(optimizer = 'adam', loss = 'mse',\n",
    "                           metrics = ['mae'])\n",
    "\n",
    "#model.summary()"
   ]
  },
  {
   "cell_type": "code",
   "execution_count": 5,
   "id": "b875c220",
   "metadata": {
    "execution": {
     "iopub.execute_input": "2022-07-02T16:37:30.785949Z",
     "iopub.status.busy": "2022-07-02T16:37:30.785232Z",
     "iopub.status.idle": "2022-07-02T16:37:30.788287Z",
     "shell.execute_reply": "2022-07-02T16:37:30.787692Z",
     "shell.execute_reply.started": "2021-08-08T16:25:04.701031Z"
    },
    "papermill": {
     "duration": 0.021499,
     "end_time": "2022-07-02T16:37:30.788418",
     "exception": false,
     "start_time": "2022-07-02T16:37:30.766919",
     "status": "completed"
    },
    "tags": []
   },
   "outputs": [],
   "source": [
    "from tensorflow.keras.callbacks import ModelCheckpoint, LearningRateScheduler, EarlyStopping, ReduceLROnPlateau\n",
    "weight_path=\"{}_mnet_weights.h5\".format('ResNet50V2_bone_age')\n",
    "checkpoint = ModelCheckpoint(weight_path, monitor='val_loss', verbose=1, \n",
    "                             save_best_only=True, mode='min', save_weights_only = True)\n",
    "\n",
    "\n",
    "reduceLROnPlat = ReduceLROnPlateau(monitor='val_loss', factor=0.8, patience=2, verbose=1, mode='auto', min_delta=0.01, cooldown=3, min_lr=0.01)\n",
    "early = EarlyStopping(monitor=\"val_loss\", \n",
    "                      mode=\"min\", \n",
    "                      patience=10) # probably needs to be more patient\n",
    "callbacks_list = [checkpoint, early, reduceLROnPlat]"
   ]
  },
  {
   "cell_type": "code",
   "execution_count": 6,
   "id": "c1458399",
   "metadata": {
    "execution": {
     "iopub.execute_input": "2022-07-02T16:37:30.822004Z",
     "iopub.status.busy": "2022-07-02T16:37:30.821053Z",
     "iopub.status.idle": "2022-07-02T16:37:30.831478Z",
     "shell.execute_reply": "2022-07-02T16:37:30.831078Z",
     "shell.execute_reply.started": "2021-08-08T16:25:04.710194Z"
    },
    "papermill": {
     "duration": 0.029862,
     "end_time": "2022-07-02T16:37:30.831586",
     "exception": false,
     "start_time": "2022-07-02T16:37:30.801724",
     "status": "completed"
    },
    "tags": []
   },
   "outputs": [],
   "source": [
    "class CustomDataGen(tf.keras.utils.Sequence):\n",
    "    \n",
    "    def __init__(self, df, directory, X_col, y_col,\n",
    "                 batch_size,\n",
    "                 input_size=(224, 224, 3),\n",
    "                 shuffle=True):\n",
    "        \n",
    "        self.df = df.copy()\n",
    "        self.X_col = X_col\n",
    "        self.y_col = y_col\n",
    "        self.batch_size = batch_size\n",
    "        self.input_size = input_size\n",
    "        self.shuffle = shuffle\n",
    "        \n",
    "        self.n = len(self.df)\n",
    "        self.n_sex = df[X_col['Sex']].nunique()\n",
    "        #self.n_path = df[X_col['id']]\n",
    "        self.directory = directory\n",
    "    \n",
    "    def __get_input(self, path, target_size):\n",
    "        img_path = self.directory+path\n",
    "        #print(img_path)\n",
    "        image = tf.keras.preprocessing.image.load_img(img_path)\n",
    "        image_arr = tf.keras.preprocessing.image.img_to_array(image)\n",
    "\n",
    "        image_arr = tf.image.resize(image_arr,(target_size[0], target_size[1])).numpy()\n",
    "\n",
    "        return image_arr/255.\n",
    "    \n",
    "    def __get_gender(self, label, num_classes):\n",
    "        return tf.keras.utils.to_categorical(label, num_classes=num_classes)\n",
    "        \n",
    "        \n",
    "    def __get_data(self, batches):\n",
    "        # Generates data containing batch_size samples\n",
    "\n",
    "        path_batch = batches[self.X_col['id']]\n",
    "        sex_batch = batches[self.X_col['Sex']]\n",
    "\n",
    "        bone_batch = batches[self.y_col['boneage']]\n",
    "\n",
    "        X0_batch = np.asarray([self.__get_input(x, self.input_size) for x in path_batch])\n",
    "        X1_batch = np.asarray([self.__get_gender(y, self.n_sex) for y in sex_batch])\n",
    "        y_batch = np.asarray(bone_batch)\n",
    "\n",
    "        return tuple([X0_batch,X1_batch]), y_batch\n",
    "    \n",
    "    def on_epoch_end(self):\n",
    "        if self.shuffle:\n",
    "            self.df = self.df.sample(frac=1).reset_index(drop=True)\n",
    "    \n",
    "    def __getitem__(self, index):\n",
    "\n",
    "        batches = self.df[index * self.batch_size:(index + 1) * self.batch_size]\n",
    "        X, y = self.__get_data(batches)        \n",
    "        return X, y\n",
    "    \n",
    "    def __len__(self):\n",
    "        return self.n // self.batch_size"
   ]
  },
  {
   "cell_type": "code",
   "execution_count": 7,
   "id": "65de9b2c",
   "metadata": {
    "execution": {
     "iopub.execute_input": "2022-07-02T16:37:30.866498Z",
     "iopub.status.busy": "2022-07-02T16:37:30.865726Z",
     "iopub.status.idle": "2022-07-02T16:37:30.870119Z",
     "shell.execute_reply": "2022-07-02T16:37:30.869695Z",
     "shell.execute_reply.started": "2021-08-08T16:25:04.727754Z"
    },
    "papermill": {
     "duration": 0.025583,
     "end_time": "2022-07-02T16:37:30.870227",
     "exception": false,
     "start_time": "2022-07-02T16:37:30.844644",
     "status": "completed"
    },
    "tags": []
   },
   "outputs": [],
   "source": [
    "target_size = (image_size, image_size, 3)\n",
    "batch_size = 32\n",
    "traingen = CustomDataGen(train_df,\n",
    "                         directory=\"../input/rsna-bone-age/boneage-training-dataset/boneage-training-dataset/\",\n",
    "                         X_col={'id':'id','Sex': 'Sex'},\n",
    "                         y_col={'boneage': 'boneage'},\n",
    "                         batch_size=batch_size, input_size=target_size)\n",
    "validgen = CustomDataGen(valid_df,\n",
    "                         directory=\"../input/rsna-bone-age/boneage-training-dataset/boneage-training-dataset/\",\n",
    "                         X_col={'id':'id','Sex': 'Sex'},\n",
    "                         y_col={'boneage': 'boneage'},\n",
    "                         batch_size=batch_size, input_size=target_size)"
   ]
  },
  {
   "cell_type": "code",
   "execution_count": 8,
   "id": "3a105abe",
   "metadata": {
    "execution": {
     "iopub.execute_input": "2022-07-02T16:37:30.902332Z",
     "iopub.status.busy": "2022-07-02T16:37:30.901592Z",
     "iopub.status.idle": "2022-07-02T16:37:30.905108Z",
     "shell.execute_reply": "2022-07-02T16:37:30.904607Z",
     "shell.execute_reply.started": "2021-08-08T16:25:04.745563Z"
    },
    "papermill": {
     "duration": 0.021346,
     "end_time": "2022-07-02T16:37:30.905215",
     "exception": false,
     "start_time": "2022-07-02T16:37:30.883869",
     "status": "completed"
    },
    "tags": []
   },
   "outputs": [],
   "source": [
    "testgen = CustomDataGen(test_df,\n",
    "                         directory=\"../input/rsna-bone-age/boneage-training-dataset/boneage-training-dataset/\",\n",
    "                         X_col={'id':'id','Sex': 'Sex'},\n",
    "                         y_col={'boneage': 'boneage'},\n",
    "                         batch_size=batch_size, input_size=target_size)"
   ]
  },
  {
   "cell_type": "code",
   "execution_count": 9,
   "id": "d9be3789",
   "metadata": {
    "execution": {
     "iopub.execute_input": "2022-07-02T16:37:30.934942Z",
     "iopub.status.busy": "2022-07-02T16:37:30.934415Z",
     "iopub.status.idle": "2022-07-02T16:37:30.938696Z",
     "shell.execute_reply": "2022-07-02T16:37:30.938228Z",
     "shell.execute_reply.started": "2021-08-08T16:25:04.756823Z"
    },
    "papermill": {
     "duration": 0.019947,
     "end_time": "2022-07-02T16:37:30.938809",
     "exception": false,
     "start_time": "2022-07-02T16:37:30.918862",
     "status": "completed"
    },
    "tags": []
   },
   "outputs": [],
   "source": [
    "# print(len(test_df))\n",
    "# X,y = traingen[0]\n",
    "# print(len(y))"
   ]
  },
  {
   "cell_type": "code",
   "execution_count": 10,
   "id": "076efed0",
   "metadata": {
    "execution": {
     "iopub.execute_input": "2022-07-02T16:37:31.042572Z",
     "iopub.status.busy": "2022-07-02T16:37:31.026328Z",
     "iopub.status.idle": "2022-07-02T16:37:33.526494Z",
     "shell.execute_reply": "2022-07-02T16:37:33.525994Z",
     "shell.execute_reply.started": "2021-08-08T16:25:04.764438Z"
    },
    "papermill": {
     "duration": 2.57498,
     "end_time": "2022-07-02T16:37:33.526637",
     "exception": false,
     "start_time": "2022-07-02T16:37:30.951657",
     "status": "completed"
    },
    "tags": []
   },
   "outputs": [],
   "source": [
    "model.load_weights('../input/bone-age-detection-resnet50v2/ResNet50V2_bone_age_mnet_weights.h5')"
   ]
  },
  {
   "cell_type": "code",
   "execution_count": 11,
   "id": "dde6199f",
   "metadata": {
    "execution": {
     "iopub.execute_input": "2022-07-02T16:37:33.557532Z",
     "iopub.status.busy": "2022-07-02T16:37:33.557012Z",
     "iopub.status.idle": "2022-07-02T16:37:33.560825Z",
     "shell.execute_reply": "2022-07-02T16:37:33.560382Z",
     "shell.execute_reply.started": "2021-08-08T16:25:06.878651Z"
    },
    "papermill": {
     "duration": 0.020708,
     "end_time": "2022-07-02T16:37:33.560942",
     "exception": false,
     "start_time": "2022-07-02T16:37:33.540234",
     "status": "completed"
    },
    "tags": []
   },
   "outputs": [],
   "source": [
    "# history_mobilenet = model.fit_generator(traingen,\n",
    "#           validation_data=validgen,\n",
    "#           epochs=100,callbacks = callbacks_list)"
   ]
  },
  {
   "cell_type": "code",
   "execution_count": 12,
   "id": "6659a120",
   "metadata": {
    "execution": {
     "iopub.execute_input": "2022-07-02T16:37:33.590751Z",
     "iopub.status.busy": "2022-07-02T16:37:33.590219Z",
     "iopub.status.idle": "2022-07-02T16:37:33.594246Z",
     "shell.execute_reply": "2022-07-02T16:37:33.593839Z",
     "shell.execute_reply.started": "2021-08-08T16:25:06.887211Z"
    },
    "papermill": {
     "duration": 0.019692,
     "end_time": "2022-07-02T16:37:33.594350",
     "exception": false,
     "start_time": "2022-07-02T16:37:33.574658",
     "status": "completed"
    },
    "tags": []
   },
   "outputs": [],
   "source": [
    "#[205.38279724121094, 10.904102325439453][199.9623260498047, 10.696362495422363]"
   ]
  },
  {
   "cell_type": "code",
   "execution_count": 13,
   "id": "92612dfd",
   "metadata": {
    "execution": {
     "iopub.execute_input": "2022-07-02T16:37:33.624190Z",
     "iopub.status.busy": "2022-07-02T16:37:33.623644Z",
     "iopub.status.idle": "2022-07-02T16:40:03.307030Z",
     "shell.execute_reply": "2022-07-02T16:40:03.306258Z",
     "shell.execute_reply.started": "2021-08-08T16:25:06.894879Z"
    },
    "papermill": {
     "duration": 149.69943,
     "end_time": "2022-07-02T16:40:03.307174",
     "exception": false,
     "start_time": "2022-07-02T16:37:33.607744",
     "status": "completed"
    },
    "tags": []
   },
   "outputs": [
    {
     "name": "stdout",
     "output_type": "stream",
     "text": [
      "53/53 [==============================] - 147s 3s/step - loss: 240.0963 - mae: 12.1626\n"
     ]
    },
    {
     "data": {
      "text/plain": [
       "[257.12933349609375, 12.594344139099121]"
      ]
     },
     "execution_count": 13,
     "metadata": {},
     "output_type": "execute_result"
    }
   ],
   "source": [
    "model.evaluate(testgen)"
   ]
  }
 ],
 "metadata": {
  "kernelspec": {
   "display_name": "Python 3",
   "language": "python",
   "name": "python3"
  },
  "language_info": {
   "codemirror_mode": {
    "name": "ipython",
    "version": 3
   },
   "file_extension": ".py",
   "mimetype": "text/x-python",
   "name": "python",
   "nbconvert_exporter": "python",
   "pygments_lexer": "ipython3",
   "version": "3.7.10"
  },
  "papermill": {
   "default_parameters": {},
   "duration": 171.778222,
   "end_time": "2022-07-02T16:40:05.482353",
   "environment_variables": {},
   "exception": null,
   "input_path": "__notebook__.ipynb",
   "output_path": "__notebook__.ipynb",
   "parameters": {},
   "start_time": "2022-07-02T16:37:13.704131",
   "version": "2.3.3"
  }
 },
 "nbformat": 4,
 "nbformat_minor": 5
}
